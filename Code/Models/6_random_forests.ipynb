{
 "cells": [
  {
   "cell_type": "code",
   "execution_count": 48,
   "metadata": {},
   "outputs": [],
   "source": [
    "from sklearn.ensemble import RandomForestClassifier\n",
    "from sklearn.model_selection import train_test_split\n",
    "import pandas as pd"
   ]
  },
  {
   "cell_type": "code",
   "execution_count": 49,
   "metadata": {},
   "outputs": [
    {
     "data": {
      "text/plain": [
       "Index(['id', 'danceability', 'energy', 'key', 'loudness', 'mode',\n",
       "       'speechiness', 'acousticness', 'instrumentalness', 'liveness',\n",
       "       'valence', 'tempo', 'duration_ms', 'time_signature', 'popularity',\n",
       "       'bin_popularity'],\n",
       "      dtype='object')"
      ]
     },
     "execution_count": 49,
     "metadata": {},
     "output_type": "execute_result"
    }
   ],
   "source": [
    "songs_csv = \"../../Resources/songs_with_popularity_trimmed_bins.csv\"\n",
    "songs_df = pd.read_csv(songs_csv, index_col=0)\n",
    "songs_df.columns\n",
    "# songs_df.head()"
   ]
  },
  {
   "cell_type": "code",
   "execution_count": 50,
   "metadata": {},
   "outputs": [
    {
     "data": {
      "text/html": [
       "<div>\n",
       "<style scoped>\n",
       "    .dataframe tbody tr th:only-of-type {\n",
       "        vertical-align: middle;\n",
       "    }\n",
       "\n",
       "    .dataframe tbody tr th {\n",
       "        vertical-align: top;\n",
       "    }\n",
       "\n",
       "    .dataframe thead th {\n",
       "        text-align: right;\n",
       "    }\n",
       "</style>\n",
       "<table border=\"1\" class=\"dataframe\">\n",
       "  <thead>\n",
       "    <tr style=\"text-align: right;\">\n",
       "      <th></th>\n",
       "      <th>danceability</th>\n",
       "      <th>energy</th>\n",
       "      <th>key</th>\n",
       "      <th>loudness</th>\n",
       "      <th>mode</th>\n",
       "      <th>speechiness</th>\n",
       "      <th>acousticness</th>\n",
       "      <th>instrumentalness</th>\n",
       "      <th>liveness</th>\n",
       "      <th>valence</th>\n",
       "      <th>tempo</th>\n",
       "      <th>duration_ms</th>\n",
       "      <th>time_signature</th>\n",
       "      <th>popularity</th>\n",
       "      <th>bin_popularity</th>\n",
       "    </tr>\n",
       "  </thead>\n",
       "  <tbody>\n",
       "    <tr>\n",
       "      <th>count</th>\n",
       "      <td>74078.000000</td>\n",
       "      <td>74078.000000</td>\n",
       "      <td>74078.000000</td>\n",
       "      <td>74078.000000</td>\n",
       "      <td>74078.000000</td>\n",
       "      <td>74078.000000</td>\n",
       "      <td>74078.000000</td>\n",
       "      <td>74078.000000</td>\n",
       "      <td>74078.000000</td>\n",
       "      <td>74078.000000</td>\n",
       "      <td>74078.000000</td>\n",
       "      <td>7.407800e+04</td>\n",
       "      <td>74078.000000</td>\n",
       "      <td>74078.000000</td>\n",
       "      <td>74078.000000</td>\n",
       "    </tr>\n",
       "    <tr>\n",
       "      <th>mean</th>\n",
       "      <td>0.492801</td>\n",
       "      <td>0.537861</td>\n",
       "      <td>5.240652</td>\n",
       "      <td>-11.418241</td>\n",
       "      <td>0.679082</td>\n",
       "      <td>0.085718</td>\n",
       "      <td>0.406758</td>\n",
       "      <td>0.287373</td>\n",
       "      <td>0.211149</td>\n",
       "      <td>0.435249</td>\n",
       "      <td>118.303222</td>\n",
       "      <td>2.510093e+05</td>\n",
       "      <td>3.838805</td>\n",
       "      <td>6.680242</td>\n",
       "      <td>0.605389</td>\n",
       "    </tr>\n",
       "    <tr>\n",
       "      <th>std</th>\n",
       "      <td>0.187416</td>\n",
       "      <td>0.292112</td>\n",
       "      <td>3.544987</td>\n",
       "      <td>6.585748</td>\n",
       "      <td>0.466833</td>\n",
       "      <td>0.124420</td>\n",
       "      <td>0.379746</td>\n",
       "      <td>0.376536</td>\n",
       "      <td>0.191585</td>\n",
       "      <td>0.268713</td>\n",
       "      <td>30.791317</td>\n",
       "      <td>1.525969e+05</td>\n",
       "      <td>0.558547</td>\n",
       "      <td>10.626528</td>\n",
       "      <td>0.488770</td>\n",
       "    </tr>\n",
       "    <tr>\n",
       "      <th>min</th>\n",
       "      <td>0.000000</td>\n",
       "      <td>0.000000</td>\n",
       "      <td>0.000000</td>\n",
       "      <td>-60.000000</td>\n",
       "      <td>0.000000</td>\n",
       "      <td>0.000000</td>\n",
       "      <td>0.000000</td>\n",
       "      <td>0.000000</td>\n",
       "      <td>0.000000</td>\n",
       "      <td>0.000000</td>\n",
       "      <td>0.000000</td>\n",
       "      <td>2.017000e+03</td>\n",
       "      <td>0.000000</td>\n",
       "      <td>0.000000</td>\n",
       "      <td>0.000000</td>\n",
       "    </tr>\n",
       "    <tr>\n",
       "      <th>25%</th>\n",
       "      <td>0.356000</td>\n",
       "      <td>0.291000</td>\n",
       "      <td>2.000000</td>\n",
       "      <td>-14.478000</td>\n",
       "      <td>0.000000</td>\n",
       "      <td>0.034800</td>\n",
       "      <td>0.023500</td>\n",
       "      <td>0.000012</td>\n",
       "      <td>0.097400</td>\n",
       "      <td>0.202000</td>\n",
       "      <td>95.047000</td>\n",
       "      <td>1.769070e+05</td>\n",
       "      <td>4.000000</td>\n",
       "      <td>0.000000</td>\n",
       "      <td>0.000000</td>\n",
       "    </tr>\n",
       "    <tr>\n",
       "      <th>50%</th>\n",
       "      <td>0.500000</td>\n",
       "      <td>0.559000</td>\n",
       "      <td>5.000000</td>\n",
       "      <td>-9.647000</td>\n",
       "      <td>1.000000</td>\n",
       "      <td>0.044400</td>\n",
       "      <td>0.292000</td>\n",
       "      <td>0.010800</td>\n",
       "      <td>0.128000</td>\n",
       "      <td>0.415000</td>\n",
       "      <td>117.599000</td>\n",
       "      <td>2.295600e+05</td>\n",
       "      <td>4.000000</td>\n",
       "      <td>2.000000</td>\n",
       "      <td>1.000000</td>\n",
       "    </tr>\n",
       "    <tr>\n",
       "      <th>75%</th>\n",
       "      <td>0.631000</td>\n",
       "      <td>0.798000</td>\n",
       "      <td>8.000000</td>\n",
       "      <td>-6.684000</td>\n",
       "      <td>1.000000</td>\n",
       "      <td>0.072300</td>\n",
       "      <td>0.815000</td>\n",
       "      <td>0.724000</td>\n",
       "      <td>0.264000</td>\n",
       "      <td>0.651000</td>\n",
       "      <td>137.208000</td>\n",
       "      <td>2.917730e+05</td>\n",
       "      <td>4.000000</td>\n",
       "      <td>9.000000</td>\n",
       "      <td>1.000000</td>\n",
       "    </tr>\n",
       "    <tr>\n",
       "      <th>max</th>\n",
       "      <td>0.987000</td>\n",
       "      <td>1.000000</td>\n",
       "      <td>11.000000</td>\n",
       "      <td>4.232000</td>\n",
       "      <td>1.000000</td>\n",
       "      <td>0.966000</td>\n",
       "      <td>0.996000</td>\n",
       "      <td>0.999000</td>\n",
       "      <td>1.000000</td>\n",
       "      <td>1.000000</td>\n",
       "      <td>246.130000</td>\n",
       "      <td>5.531591e+06</td>\n",
       "      <td>5.000000</td>\n",
       "      <td>86.000000</td>\n",
       "      <td>1.000000</td>\n",
       "    </tr>\n",
       "  </tbody>\n",
       "</table>\n",
       "</div>"
      ],
      "text/plain": [
       "       danceability        energy           key      loudness          mode  \\\n",
       "count  74078.000000  74078.000000  74078.000000  74078.000000  74078.000000   \n",
       "mean       0.492801      0.537861      5.240652    -11.418241      0.679082   \n",
       "std        0.187416      0.292112      3.544987      6.585748      0.466833   \n",
       "min        0.000000      0.000000      0.000000    -60.000000      0.000000   \n",
       "25%        0.356000      0.291000      2.000000    -14.478000      0.000000   \n",
       "50%        0.500000      0.559000      5.000000     -9.647000      1.000000   \n",
       "75%        0.631000      0.798000      8.000000     -6.684000      1.000000   \n",
       "max        0.987000      1.000000     11.000000      4.232000      1.000000   \n",
       "\n",
       "        speechiness  acousticness  instrumentalness      liveness  \\\n",
       "count  74078.000000  74078.000000      74078.000000  74078.000000   \n",
       "mean       0.085718      0.406758          0.287373      0.211149   \n",
       "std        0.124420      0.379746          0.376536      0.191585   \n",
       "min        0.000000      0.000000          0.000000      0.000000   \n",
       "25%        0.034800      0.023500          0.000012      0.097400   \n",
       "50%        0.044400      0.292000          0.010800      0.128000   \n",
       "75%        0.072300      0.815000          0.724000      0.264000   \n",
       "max        0.966000      0.996000          0.999000      1.000000   \n",
       "\n",
       "            valence         tempo   duration_ms  time_signature    popularity  \\\n",
       "count  74078.000000  74078.000000  7.407800e+04    74078.000000  74078.000000   \n",
       "mean       0.435249    118.303222  2.510093e+05        3.838805      6.680242   \n",
       "std        0.268713     30.791317  1.525969e+05        0.558547     10.626528   \n",
       "min        0.000000      0.000000  2.017000e+03        0.000000      0.000000   \n",
       "25%        0.202000     95.047000  1.769070e+05        4.000000      0.000000   \n",
       "50%        0.415000    117.599000  2.295600e+05        4.000000      2.000000   \n",
       "75%        0.651000    137.208000  2.917730e+05        4.000000      9.000000   \n",
       "max        1.000000    246.130000  5.531591e+06        5.000000     86.000000   \n",
       "\n",
       "       bin_popularity  \n",
       "count    74078.000000  \n",
       "mean         0.605389  \n",
       "std          0.488770  \n",
       "min          0.000000  \n",
       "25%          0.000000  \n",
       "50%          1.000000  \n",
       "75%          1.000000  \n",
       "max          1.000000  "
      ]
     },
     "execution_count": 50,
     "metadata": {},
     "output_type": "execute_result"
    }
   ],
   "source": [
    "songs_df = songs_df.drop('id',1)\n",
    "# print(songs_df.shape)\n",
    "# songs_df.head()\n",
    "songs_df =songs_df.dropna(how='any')\n",
    "songs_df.describe()"
   ]
  },
  {
   "cell_type": "code",
   "execution_count": 51,
   "metadata": {},
   "outputs": [
    {
     "data": {
      "text/plain": [
       "1    44846\n",
       "0    29232\n",
       "Name: bin_popularity, dtype: int64"
      ]
     },
     "execution_count": 51,
     "metadata": {},
     "output_type": "execute_result"
    }
   ],
   "source": [
    "songs_df.bin_popularity.value_counts()"
   ]
  },
  {
   "cell_type": "code",
   "execution_count": 52,
   "metadata": {},
   "outputs": [],
   "source": [
    "import numpy as np\n",
    "\n",
    "# Drop duration\n",
    "X=songs_df[['danceability','energy', 'key', 'loudness', 'mode',\n",
    "       'speechiness', 'acousticness', 'instrumentalness', 'liveness',\n",
    "       'valence', 'tempo', 'time_signature']] # Features\n",
    "y=songs_df['bin_popularity'] #Labels"
   ]
  },
  {
   "cell_type": "code",
   "execution_count": 61,
   "metadata": {},
   "outputs": [],
   "source": [
    "import numpy as np\n",
    "\n",
    "# Drop duration\n",
    "X=songs_df[['danceability','energy', 'loudness',\n",
    "       'speechiness', 'acousticness', 'instrumentalness', 'liveness',\n",
    "       'valence', 'tempo', 'time_signature']] # Features\n",
    "y=songs_df['bin_popularity'] #Labels"
   ]
  },
  {
   "cell_type": "code",
   "execution_count": null,
   "metadata": {},
   "outputs": [],
   "source": []
  },
  {
   "cell_type": "code",
   "execution_count": 62,
   "metadata": {},
   "outputs": [],
   "source": [
    "# Split dataset into training set and test set\n",
    "X_train, X_test, y_train, y_test = train_test_split(X, y, test_size=0.3)"
   ]
  },
  {
   "cell_type": "code",
   "execution_count": 63,
   "metadata": {},
   "outputs": [],
   "source": [
    "# Create a random forest classifier\n",
    "rf = RandomForestClassifier(n_estimators=200)\n",
    "rf.fit(X_train, y_train)\n",
    "y_pred = rf.predict(X_test)"
   ]
  },
  {
   "cell_type": "code",
   "execution_count": 64,
   "metadata": {},
   "outputs": [
    {
     "data": {
      "text/plain": [
       "0.6926745860331174"
      ]
     },
     "execution_count": 64,
     "metadata": {},
     "output_type": "execute_result"
    }
   ],
   "source": [
    "rf.score(X_test, y_test)"
   ]
  },
  {
   "cell_type": "code",
   "execution_count": 65,
   "metadata": {},
   "outputs": [
    {
     "data": {
      "text/plain": [
       "[(0.1175031539334509, 'loudness'),\n",
       " (0.11202770017985915, 'tempo'),\n",
       " (0.11038793282221478, 'acousticness'),\n",
       " (0.11006994008059105, 'danceability'),\n",
       " (0.10897424608888691, 'valence'),\n",
       " (0.10863648625518887, 'energy'),\n",
       " (0.10799979830679274, 'speechiness'),\n",
       " (0.10799008907215542, 'liveness'),\n",
       " (0.10150782573192975, 'instrumentalness'),\n",
       " (0.014902827528930252, 'time_signature')]"
      ]
     },
     "execution_count": 65,
     "metadata": {},
     "output_type": "execute_result"
    }
   ],
   "source": [
    "feature_names = X_train.columns\n",
    "sorted(zip(rf.feature_importances_, feature_names), reverse=True)"
   ]
  }
 ],
 "metadata": {
  "interpreter": {
   "hash": "f3250fe40d543f5c03f61d138d24dd30d84b23126029bb0b41e2b34b01ab6dfe"
  },
  "kernelspec": {
   "display_name": "Python 3.8.8 64-bit ('base': conda)",
   "language": "python",
   "name": "python3"
  },
  "language_info": {
   "codemirror_mode": {
    "name": "ipython",
    "version": 3
   },
   "file_extension": ".py",
   "mimetype": "text/x-python",
   "name": "python",
   "nbconvert_exporter": "python",
   "pygments_lexer": "ipython3",
   "version": "3.6.13"
  },
  "orig_nbformat": 4
 },
 "nbformat": 4,
 "nbformat_minor": 2
}
