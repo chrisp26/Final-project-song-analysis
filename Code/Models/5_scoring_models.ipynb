{
 "cells": [
  {
   "cell_type": "markdown",
   "metadata": {},
   "source": [
    "## Build out a quick summary and barplot to compare the R score of each model ##"
   ]
  },
  {
   "cell_type": "code",
   "execution_count": null,
   "metadata": {},
   "outputs": [],
   "source": [
    "models=pd.DataFrame({'Model':['Random Forest','SVC','KNN','Decision Tree Classifier','Logistic Regression','Gaussian NB'],\n",
    "                    'Score':[accuracy_random_forest,accuracy_svc,knn_accuracy,d_tree_accuracy,lr_score,gb_score]})"
   ]
  },
  {
   "cell_type": "code",
   "execution_count": null,
   "metadata": {},
   "outputs": [],
   "source": [
    "fig=plt.figure(figsize=(10,10))\n",
    "sns.barplot(x=models.Model,y=models.Score)\n",
    "plt.xticks(rotation=90)\n",
    "fig.show()"
   ]
  }
 ],
 "metadata": {
  "language_info": {
   "name": "python"
  },
  "orig_nbformat": 4
 },
 "nbformat": 4,
 "nbformat_minor": 2
}
