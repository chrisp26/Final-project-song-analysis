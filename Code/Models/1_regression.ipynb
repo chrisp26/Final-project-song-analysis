{
 "cells": [
  {
   "cell_type": "code",
   "execution_count": 1,
   "metadata": {},
   "outputs": [],
   "source": [
    "import matplotlib.pyplot as plt\n",
    "import numpy as np\n",
    "import pandas as pd"
   ]
  },
  {
   "cell_type": "code",
   "execution_count": 12,
   "metadata": {},
   "outputs": [
    {
     "name": "stderr",
     "output_type": "stream",
     "text": [
      "G:\\Programs\\Anaconda\\envs\\PythonAdv\\lib\\site-packages\\numpy\\lib\\arraysetops.py:580: FutureWarning: elementwise comparison failed; returning scalar instead, but in the future will perform elementwise comparison\n",
      "  mask |= (ar1 == a)\n"
     ]
    },
    {
     "data": {
      "text/html": [
       "<div>\n",
       "<style scoped>\n",
       "    .dataframe tbody tr th:only-of-type {\n",
       "        vertical-align: middle;\n",
       "    }\n",
       "\n",
       "    .dataframe tbody tr th {\n",
       "        vertical-align: top;\n",
       "    }\n",
       "\n",
       "    .dataframe thead th {\n",
       "        text-align: right;\n",
       "    }\n",
       "</style>\n",
       "<table border=\"1\" class=\"dataframe\">\n",
       "  <thead>\n",
       "    <tr style=\"text-align: right;\">\n",
       "      <th></th>\n",
       "      <th>id</th>\n",
       "      <th>danceability</th>\n",
       "      <th>energy</th>\n",
       "      <th>key</th>\n",
       "      <th>loudness</th>\n",
       "      <th>mode</th>\n",
       "      <th>speechiness</th>\n",
       "      <th>acousticness</th>\n",
       "      <th>instrumentalness</th>\n",
       "      <th>liveness</th>\n",
       "      <th>valence</th>\n",
       "      <th>tempo</th>\n",
       "      <th>duration_ms</th>\n",
       "      <th>time_signature</th>\n",
       "      <th>popularity</th>\n",
       "    </tr>\n",
       "  </thead>\n",
       "  <tbody>\n",
       "    <tr>\n",
       "      <th>1316</th>\n",
       "      <td>7u1LLhNqecfHzu6O0SD8Vw</td>\n",
       "      <td>0.285</td>\n",
       "      <td>0.966</td>\n",
       "      <td>11</td>\n",
       "      <td>1.369</td>\n",
       "      <td>1</td>\n",
       "      <td>0.0632</td>\n",
       "      <td>0.65100</td>\n",
       "      <td>0.879000</td>\n",
       "      <td>0.1710</td>\n",
       "      <td>0.4660</td>\n",
       "      <td>86.453</td>\n",
       "      <td>124560</td>\n",
       "      <td>4.0</td>\n",
       "      <td>0.0</td>\n",
       "    </tr>\n",
       "    <tr>\n",
       "      <th>1210</th>\n",
       "      <td>1OR29CDoZkgNgYbPHMuBTD</td>\n",
       "      <td>0.422</td>\n",
       "      <td>0.947</td>\n",
       "      <td>10</td>\n",
       "      <td>-6.879</td>\n",
       "      <td>1</td>\n",
       "      <td>0.5080</td>\n",
       "      <td>0.17000</td>\n",
       "      <td>0.000000</td>\n",
       "      <td>0.7750</td>\n",
       "      <td>0.2360</td>\n",
       "      <td>117.340</td>\n",
       "      <td>40120</td>\n",
       "      <td>4.0</td>\n",
       "      <td>0.0</td>\n",
       "    </tr>\n",
       "    <tr>\n",
       "      <th>1211</th>\n",
       "      <td>0prv1JqFF75iNvjr9ihOho</td>\n",
       "      <td>0.294</td>\n",
       "      <td>0.837</td>\n",
       "      <td>0</td>\n",
       "      <td>-5.306</td>\n",
       "      <td>1</td>\n",
       "      <td>0.0482</td>\n",
       "      <td>0.00219</td>\n",
       "      <td>0.000000</td>\n",
       "      <td>0.8820</td>\n",
       "      <td>0.6400</td>\n",
       "      <td>134.755</td>\n",
       "      <td>180573</td>\n",
       "      <td>4.0</td>\n",
       "      <td>0.0</td>\n",
       "    </tr>\n",
       "    <tr>\n",
       "      <th>1212</th>\n",
       "      <td>3ejBDmup7fFu3mMrJLpNNL</td>\n",
       "      <td>0.149</td>\n",
       "      <td>0.340</td>\n",
       "      <td>11</td>\n",
       "      <td>-8.613</td>\n",
       "      <td>0</td>\n",
       "      <td>0.0757</td>\n",
       "      <td>0.38000</td>\n",
       "      <td>0.000146</td>\n",
       "      <td>0.8910</td>\n",
       "      <td>0.0833</td>\n",
       "      <td>212.155</td>\n",
       "      <td>127853</td>\n",
       "      <td>3.0</td>\n",
       "      <td>0.0</td>\n",
       "    </tr>\n",
       "    <tr>\n",
       "      <th>1250</th>\n",
       "      <td>17RotlN2CUYC1W2jxT8FAJ</td>\n",
       "      <td>0.520</td>\n",
       "      <td>0.930</td>\n",
       "      <td>2</td>\n",
       "      <td>-6.327</td>\n",
       "      <td>1</td>\n",
       "      <td>0.2260</td>\n",
       "      <td>0.08980</td>\n",
       "      <td>0.000000</td>\n",
       "      <td>0.0837</td>\n",
       "      <td>0.3750</td>\n",
       "      <td>116.591</td>\n",
       "      <td>227253</td>\n",
       "      <td>4.0</td>\n",
       "      <td>0.0</td>\n",
       "    </tr>\n",
       "  </tbody>\n",
       "</table>\n",
       "</div>"
      ],
      "text/plain": [
       "                          id  danceability  energy  key  loudness  mode  \\\n",
       "1316  7u1LLhNqecfHzu6O0SD8Vw         0.285   0.966   11     1.369     1   \n",
       "1210  1OR29CDoZkgNgYbPHMuBTD         0.422   0.947   10    -6.879     1   \n",
       "1211  0prv1JqFF75iNvjr9ihOho         0.294   0.837    0    -5.306     1   \n",
       "1212  3ejBDmup7fFu3mMrJLpNNL         0.149   0.340   11    -8.613     0   \n",
       "1250  17RotlN2CUYC1W2jxT8FAJ         0.520   0.930    2    -6.327     1   \n",
       "\n",
       "      speechiness  acousticness  instrumentalness  liveness  valence    tempo  \\\n",
       "1316       0.0632       0.65100          0.879000    0.1710   0.4660   86.453   \n",
       "1210       0.5080       0.17000          0.000000    0.7750   0.2360  117.340   \n",
       "1211       0.0482       0.00219          0.000000    0.8820   0.6400  134.755   \n",
       "1212       0.0757       0.38000          0.000146    0.8910   0.0833  212.155   \n",
       "1250       0.2260       0.08980          0.000000    0.0837   0.3750  116.591   \n",
       "\n",
       "      duration_ms  time_signature  popularity  \n",
       "1316       124560             4.0         0.0  \n",
       "1210        40120             4.0         0.0  \n",
       "1211       180573             4.0         0.0  \n",
       "1212       127853             3.0         0.0  \n",
       "1250       227253             4.0         0.0  "
      ]
     },
     "execution_count": 12,
     "metadata": {},
     "output_type": "execute_result"
    }
   ],
   "source": [
    "# Read the csv file into a pandas DataFrame\n",
    "songs_csv = \"../../Resources/merged_songs_data.csv\"\n",
    "songs_df = pd.read_csv(songs_csv, index_col=0)\n",
    "# songs_df.columns\n",
    "songs_df = songs_df.dropna()\n",
    "songs_df = songs_df.sort_values(by=['popularity'])\n",
    "songs_df.head()"
   ]
  },
  {
   "cell_type": "code",
   "execution_count": 13,
   "metadata": {},
   "outputs": [
    {
     "name": "stdout",
     "output_type": "stream",
     "text": [
      "Shape:  (2633, 1) (2633, 1)\n"
     ]
    }
   ],
   "source": [
    "X = songs_df[\"danceability\"].values.reshape(-1, 1)\n",
    "y = songs_df[\"popularity\"].values.reshape(-1, 1)\n",
    "\n",
    "print(\"Shape: \", X.shape, y.shape)"
   ]
  },
  {
   "cell_type": "code",
   "execution_count": 14,
   "metadata": {},
   "outputs": [],
   "source": [
    "# Use train_test_split to create training and testing data\n",
    "\n",
    "### BEGIN SOLUTION\n",
    "from sklearn.model_selection import train_test_split\n",
    "\n",
    "X_train, X_test, y_train, y_test = train_test_split(X, y, random_state=42)\n",
    "\n",
    "### END SOLUTION"
   ]
  },
  {
   "cell_type": "code",
   "execution_count": 15,
   "metadata": {},
   "outputs": [],
   "source": [
    "# Create the model using LinearRegression\n",
    "\n",
    "### BEGIN SOLUTION\n",
    "from sklearn.linear_model import LinearRegression\n",
    "model = LinearRegression()\n",
    "### END SOLUTION"
   ]
  },
  {
   "cell_type": "code",
   "execution_count": 16,
   "metadata": {},
   "outputs": [
    {
     "name": "stdout",
     "output_type": "stream",
     "text": [
      "Training Score: 0.04740410962911468\n",
      "Testing Score: 0.04922667270656467\n"
     ]
    }
   ],
   "source": [
    "# Fit the model to the training data and calculate the scores for the training and testing data\n",
    "\n",
    "### BEGIN SOLUTION\n",
    "model.fit(X_train, y_train)\n",
    "training_score = model.score(X_train, y_train)\n",
    "testing_score = model.score(X_test, y_test)\n",
    "\n",
    "### END SOLUTION \n",
    "\n",
    "print(f\"Training Score: {training_score}\")\n",
    "print(f\"Testing Score: {testing_score}\")"
   ]
  },
  {
   "cell_type": "code",
   "execution_count": 23,
   "metadata": {},
   "outputs": [
    {
     "data": {
      "text/plain": [
       "Text(0.5, 1.0, 'Residual Plot')"
      ]
     },
     "execution_count": 23,
     "metadata": {},
     "output_type": "execute_result"
    },
    {
     "data": {
      "image/png": "[encoded data removed]",
      "text/plain": [
       "<Figure size 432x288 with 1 Axes>"
      ]
     },
     "metadata": {
      "needs_background": "light"
     },
     "output_type": "display_data"
    }
   ],
   "source": [
    "# Plot the Residuals for the Training and Testing data\n",
    "\n",
    "### BEGIN SOLUTION\n",
    "plt.scatter(model.predict(X_train), model.predict(X_train) - y_train, c=\"blue\", label=\"Training Data\", s=1, alpha=0.8)\n",
    "plt.scatter(model.predict(X_test), model.predict(X_test) - y_test, c=\"orange\", label=\"Testing Data\", s=1, alpha=0.8)\n",
    "plt.legend()\n",
    "plt.hlines(y=0, xmin=y.min(), xmax=y.max())\n",
    "plt.title(\"Residual Plot\")\n",
    "### END SOLUTION"
   ]
  }
 ],
 "metadata": {
  "interpreter": {
   "hash": "e2d241ea6c13fbd412b08f70f77b2f246b799fc133294b10c57332bfd67ee63a"
  },
  "kernelspec": {
   "display_name": "Python 3.6.13 64-bit ('PythonAdv': conda)",
   "language": "python",
   "name": "python3"
  },
  "language_info": {
   "codemirror_mode": {
    "name": "ipython",
    "version": 3
   },
   "file_extension": ".py",
   "mimetype": "text/x-python",
   "name": "python",
   "nbconvert_exporter": "python",
   "pygments_lexer": "ipython3",
   "version": "3.6.13"
  },
  "orig_nbformat": 4
 },
 "nbformat": 4,
 "nbformat_minor": 2
}
