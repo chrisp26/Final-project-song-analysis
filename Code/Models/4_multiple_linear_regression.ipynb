{
 "cells": [
  {
   "cell_type": "code",
   "execution_count": 1,
   "metadata": {},
   "outputs": [],
   "source": [
    "import matplotlib.pyplot as plt\n",
    "import numpy as np\n",
    "import pandas as pd"
   ]
  },
  {
   "cell_type": "code",
   "execution_count": 2,
   "metadata": {},
   "outputs": [
    {
     "data": {
      "text/html": [
       "<div>\n",
       "<style scoped>\n",
       "    .dataframe tbody tr th:only-of-type {\n",
       "        vertical-align: middle;\n",
       "    }\n",
       "\n",
       "    .dataframe tbody tr th {\n",
       "        vertical-align: top;\n",
       "    }\n",
       "\n",
       "    .dataframe thead th {\n",
       "        text-align: right;\n",
       "    }\n",
       "</style>\n",
       "<table border=\"1\" class=\"dataframe\">\n",
       "  <thead>\n",
       "    <tr style=\"text-align: right;\">\n",
       "      <th></th>\n",
       "      <th>danceability</th>\n",
       "      <th>energy</th>\n",
       "      <th>key</th>\n",
       "      <th>loudness</th>\n",
       "      <th>mode</th>\n",
       "      <th>speechiness</th>\n",
       "      <th>acousticness</th>\n",
       "      <th>instrumentalness</th>\n",
       "      <th>liveness</th>\n",
       "      <th>valence</th>\n",
       "      <th>tempo</th>\n",
       "      <th>time_signature</th>\n",
       "      <th>popularity</th>\n",
       "    </tr>\n",
       "  </thead>\n",
       "  <tbody>\n",
       "    <tr>\n",
       "      <th>count</th>\n",
       "      <td>74078.000000</td>\n",
       "      <td>74078.000000</td>\n",
       "      <td>74078.000000</td>\n",
       "      <td>74078.000000</td>\n",
       "      <td>74078.000000</td>\n",
       "      <td>74078.000000</td>\n",
       "      <td>74078.000000</td>\n",
       "      <td>74078.000000</td>\n",
       "      <td>74078.000000</td>\n",
       "      <td>74078.000000</td>\n",
       "      <td>74078.000000</td>\n",
       "      <td>74078.000000</td>\n",
       "      <td>74078.000000</td>\n",
       "    </tr>\n",
       "    <tr>\n",
       "      <th>mean</th>\n",
       "      <td>0.492801</td>\n",
       "      <td>0.537861</td>\n",
       "      <td>5.240652</td>\n",
       "      <td>-11.418241</td>\n",
       "      <td>0.679082</td>\n",
       "      <td>0.085718</td>\n",
       "      <td>0.406758</td>\n",
       "      <td>0.287373</td>\n",
       "      <td>0.211149</td>\n",
       "      <td>0.435249</td>\n",
       "      <td>118.303222</td>\n",
       "      <td>3.838805</td>\n",
       "      <td>6.680242</td>\n",
       "    </tr>\n",
       "    <tr>\n",
       "      <th>std</th>\n",
       "      <td>0.187416</td>\n",
       "      <td>0.292112</td>\n",
       "      <td>3.544987</td>\n",
       "      <td>6.585748</td>\n",
       "      <td>0.466833</td>\n",
       "      <td>0.124420</td>\n",
       "      <td>0.379746</td>\n",
       "      <td>0.376536</td>\n",
       "      <td>0.191585</td>\n",
       "      <td>0.268713</td>\n",
       "      <td>30.791317</td>\n",
       "      <td>0.558547</td>\n",
       "      <td>10.626528</td>\n",
       "    </tr>\n",
       "    <tr>\n",
       "      <th>min</th>\n",
       "      <td>0.000000</td>\n",
       "      <td>0.000000</td>\n",
       "      <td>0.000000</td>\n",
       "      <td>-60.000000</td>\n",
       "      <td>0.000000</td>\n",
       "      <td>0.000000</td>\n",
       "      <td>0.000000</td>\n",
       "      <td>0.000000</td>\n",
       "      <td>0.000000</td>\n",
       "      <td>0.000000</td>\n",
       "      <td>0.000000</td>\n",
       "      <td>0.000000</td>\n",
       "      <td>0.000000</td>\n",
       "    </tr>\n",
       "    <tr>\n",
       "      <th>25%</th>\n",
       "      <td>0.356000</td>\n",
       "      <td>0.291000</td>\n",
       "      <td>2.000000</td>\n",
       "      <td>-14.478000</td>\n",
       "      <td>0.000000</td>\n",
       "      <td>0.034800</td>\n",
       "      <td>0.023500</td>\n",
       "      <td>0.000012</td>\n",
       "      <td>0.097400</td>\n",
       "      <td>0.202000</td>\n",
       "      <td>95.047000</td>\n",
       "      <td>4.000000</td>\n",
       "      <td>0.000000</td>\n",
       "    </tr>\n",
       "    <tr>\n",
       "      <th>50%</th>\n",
       "      <td>0.500000</td>\n",
       "      <td>0.559000</td>\n",
       "      <td>5.000000</td>\n",
       "      <td>-9.647000</td>\n",
       "      <td>1.000000</td>\n",
       "      <td>0.044400</td>\n",
       "      <td>0.292000</td>\n",
       "      <td>0.010800</td>\n",
       "      <td>0.128000</td>\n",
       "      <td>0.415000</td>\n",
       "      <td>117.599000</td>\n",
       "      <td>4.000000</td>\n",
       "      <td>2.000000</td>\n",
       "    </tr>\n",
       "    <tr>\n",
       "      <th>75%</th>\n",
       "      <td>0.631000</td>\n",
       "      <td>0.798000</td>\n",
       "      <td>8.000000</td>\n",
       "      <td>-6.684000</td>\n",
       "      <td>1.000000</td>\n",
       "      <td>0.072300</td>\n",
       "      <td>0.815000</td>\n",
       "      <td>0.724000</td>\n",
       "      <td>0.264000</td>\n",
       "      <td>0.651000</td>\n",
       "      <td>137.208000</td>\n",
       "      <td>4.000000</td>\n",
       "      <td>9.000000</td>\n",
       "    </tr>\n",
       "    <tr>\n",
       "      <th>max</th>\n",
       "      <td>0.987000</td>\n",
       "      <td>1.000000</td>\n",
       "      <td>11.000000</td>\n",
       "      <td>4.232000</td>\n",
       "      <td>1.000000</td>\n",
       "      <td>0.966000</td>\n",
       "      <td>0.996000</td>\n",
       "      <td>0.999000</td>\n",
       "      <td>1.000000</td>\n",
       "      <td>1.000000</td>\n",
       "      <td>246.130000</td>\n",
       "      <td>5.000000</td>\n",
       "      <td>86.000000</td>\n",
       "    </tr>\n",
       "  </tbody>\n",
       "</table>\n",
       "</div>"
      ],
      "text/plain": [
       "       danceability        energy           key      loudness          mode  \\\n",
       "count  74078.000000  74078.000000  74078.000000  74078.000000  74078.000000   \n",
       "mean       0.492801      0.537861      5.240652    -11.418241      0.679082   \n",
       "std        0.187416      0.292112      3.544987      6.585748      0.466833   \n",
       "min        0.000000      0.000000      0.000000    -60.000000      0.000000   \n",
       "25%        0.356000      0.291000      2.000000    -14.478000      0.000000   \n",
       "50%        0.500000      0.559000      5.000000     -9.647000      1.000000   \n",
       "75%        0.631000      0.798000      8.000000     -6.684000      1.000000   \n",
       "max        0.987000      1.000000     11.000000      4.232000      1.000000   \n",
       "\n",
       "        speechiness  acousticness  instrumentalness      liveness  \\\n",
       "count  74078.000000  74078.000000      74078.000000  74078.000000   \n",
       "mean       0.085718      0.406758          0.287373      0.211149   \n",
       "std        0.124420      0.379746          0.376536      0.191585   \n",
       "min        0.000000      0.000000          0.000000      0.000000   \n",
       "25%        0.034800      0.023500          0.000012      0.097400   \n",
       "50%        0.044400      0.292000          0.010800      0.128000   \n",
       "75%        0.072300      0.815000          0.724000      0.264000   \n",
       "max        0.966000      0.996000          0.999000      1.000000   \n",
       "\n",
       "            valence         tempo  time_signature    popularity  \n",
       "count  74078.000000  74078.000000    74078.000000  74078.000000  \n",
       "mean       0.435249    118.303222        3.838805      6.680242  \n",
       "std        0.268713     30.791317        0.558547     10.626528  \n",
       "min        0.000000      0.000000        0.000000      0.000000  \n",
       "25%        0.202000     95.047000        4.000000      0.000000  \n",
       "50%        0.415000    117.599000        4.000000      2.000000  \n",
       "75%        0.651000    137.208000        4.000000      9.000000  \n",
       "max        1.000000    246.130000        5.000000     86.000000  "
      ]
     },
     "execution_count": 2,
     "metadata": {},
     "output_type": "execute_result"
    }
   ],
   "source": [
    "# Read the csv file into a pandas DataFrame\n",
    "songs_csv = \"../../Resources/songs_with_popularity_trimmed.csv\"\n",
    "songs_df = pd.read_csv(songs_csv, index_col=0)\n",
    "# songs_df.columns\n",
    "songs_df = songs_df.dropna()\n",
    "songs_df = songs_df.sort_values(by=['popularity'])\n",
    "songs_df[['danceability', 'energy', 'key', 'loudness', 'mode','speechiness','acousticness','instrumentalness','liveness','valence','tempo','time_signature','popularity']].describe()"
   ]
  },
  {
   "cell_type": "code",
   "execution_count": 4,
   "metadata": {},
   "outputs": [
    {
     "name": "stdout",
     "output_type": "stream",
     "text": [
      "(74078, 13) (74078, 1)\n"
     ]
    }
   ],
   "source": [
    "# Assign X (data) and y (target)\n",
    "\n",
    "### BEGIN SOLUTION\n",
    "X = songs_df[['danceability', 'energy', 'key', 'loudness', 'mode','speechiness','acousticness','instrumentalness','liveness','valence','tempo','time_signature','duration_ms']]\n",
    "# X = songs_df[['danceability', 'energy', 'key', 'loudness','speechiness','acousticness','instrumentalness','liveness','valence','tempo','time_signature']]\n",
    "# X = songs_df[['danceability', 'energy', 'loudness','valence','tempo']]\n",
    "y = songs_df[\"popularity\"].values.reshape(-1, 1)\n",
    "print(X.shape, y.shape)\n",
    "### END SOLUTION"
   ]
  },
  {
   "cell_type": "code",
   "execution_count": 5,
   "metadata": {},
   "outputs": [
    {
     "name": "stdout",
     "output_type": "stream",
     "text": [
      "R2 Score: 0.04414286731827288\n"
     ]
    }
   ],
   "source": [
    "from sklearn.linear_model import LinearRegression\n",
    "model = LinearRegression()\n",
    "\n",
    "# Fitting our model with all of our features in X\n",
    "model.fit(X, y)\n",
    "\n",
    "score = model.score(X, y)\n",
    "print(f\"R2 Score: {score}\")"
   ]
  },
  {
   "cell_type": "markdown",
   "metadata": {},
   "source": [
    "## Residuals ##"
   ]
  },
  {
   "cell_type": "code",
   "execution_count": 6,
   "metadata": {},
   "outputs": [
    {
     "data": {
      "image/png": "[encoded data removed]",
      "text/plain": [
       "<Figure size 432x288 with 1 Axes>"
      ]
     },
     "metadata": {
      "needs_background": "light"
     },
     "output_type": "display_data"
    }
   ],
   "source": [
    "predictions = model.predict(X)\n",
    "# Plot Residuals\n",
    "plt.scatter(predictions, predictions - y)\n",
    "plt.hlines(y=0, xmin=predictions.min(), xmax=predictions.max())\n",
    "plt.show()"
   ]
  }
 ],
 "metadata": {
  "interpreter": {
   "hash": "e2d241ea6c13fbd412b08f70f77b2f246b799fc133294b10c57332bfd67ee63a"
  },
  "kernelspec": {
   "display_name": "Python 3.6.13 64-bit ('PythonAdv': conda)",
   "language": "python",
   "name": "python3"
  },
  "language_info": {
   "codemirror_mode": {
    "name": "ipython",
    "version": 3
   },
   "file_extension": ".py",
   "mimetype": "text/x-python",
   "name": "python",
   "nbconvert_exporter": "python",
   "pygments_lexer": "ipython3",
   "version": "3.6.13"
  },
  "orig_nbformat": 4
 },
 "nbformat": 4,
 "nbformat_minor": 2
}
