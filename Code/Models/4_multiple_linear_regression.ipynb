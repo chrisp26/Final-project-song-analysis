{
 "cells": [
  {
   "cell_type": "code",
   "execution_count": 1,
   "metadata": {},
   "outputs": [],
   "source": [
    "import matplotlib.pyplot as plt\n",
    "import numpy as np\n",
    "import pandas as pd"
   ]
  },
  {
   "cell_type": "code",
   "execution_count": 16,
   "metadata": {},
   "outputs": [
    {
     "name": "stderr",
     "output_type": "stream",
     "text": [
      "G:\\Programs\\Anaconda\\envs\\PythonAdv\\lib\\site-packages\\numpy\\lib\\arraysetops.py:580: FutureWarning: elementwise comparison failed; returning scalar instead, but in the future will perform elementwise comparison\n",
      "  mask |= (ar1 == a)\n"
     ]
    },
    {
     "data": {
      "text/html": [
       "<div>\n",
       "<style scoped>\n",
       "    .dataframe tbody tr th:only-of-type {\n",
       "        vertical-align: middle;\n",
       "    }\n",
       "\n",
       "    .dataframe tbody tr th {\n",
       "        vertical-align: top;\n",
       "    }\n",
       "\n",
       "    .dataframe thead th {\n",
       "        text-align: right;\n",
       "    }\n",
       "</style>\n",
       "<table border=\"1\" class=\"dataframe\">\n",
       "  <thead>\n",
       "    <tr style=\"text-align: right;\">\n",
       "      <th></th>\n",
       "      <th>danceability</th>\n",
       "      <th>energy</th>\n",
       "      <th>key</th>\n",
       "      <th>loudness</th>\n",
       "      <th>mode</th>\n",
       "      <th>speechiness</th>\n",
       "      <th>acousticness</th>\n",
       "      <th>instrumentalness</th>\n",
       "      <th>liveness</th>\n",
       "      <th>valence</th>\n",
       "      <th>tempo</th>\n",
       "      <th>time_signature</th>\n",
       "      <th>popularity</th>\n",
       "    </tr>\n",
       "  </thead>\n",
       "  <tbody>\n",
       "    <tr>\n",
       "      <th>count</th>\n",
       "      <td>2633.000000</td>\n",
       "      <td>2633.000000</td>\n",
       "      <td>2633.000000</td>\n",
       "      <td>2633.000000</td>\n",
       "      <td>2633.000000</td>\n",
       "      <td>2633.000000</td>\n",
       "      <td>2633.000000</td>\n",
       "      <td>2633.000000</td>\n",
       "      <td>2633.000000</td>\n",
       "      <td>2633.000000</td>\n",
       "      <td>2633.000000</td>\n",
       "      <td>2633.000000</td>\n",
       "      <td>2633.000000</td>\n",
       "    </tr>\n",
       "    <tr>\n",
       "      <th>mean</th>\n",
       "      <td>0.501157</td>\n",
       "      <td>0.577846</td>\n",
       "      <td>5.308393</td>\n",
       "      <td>-10.474196</td>\n",
       "      <td>0.729206</td>\n",
       "      <td>0.068865</td>\n",
       "      <td>0.333271</td>\n",
       "      <td>0.194327</td>\n",
       "      <td>0.209889</td>\n",
       "      <td>0.479666</td>\n",
       "      <td>121.857204</td>\n",
       "      <td>3.876187</td>\n",
       "      <td>13.407900</td>\n",
       "    </tr>\n",
       "    <tr>\n",
       "      <th>std</th>\n",
       "      <td>0.174248</td>\n",
       "      <td>0.276373</td>\n",
       "      <td>3.569734</td>\n",
       "      <td>5.743470</td>\n",
       "      <td>0.444454</td>\n",
       "      <td>0.085543</td>\n",
       "      <td>0.349800</td>\n",
       "      <td>0.331703</td>\n",
       "      <td>0.198168</td>\n",
       "      <td>0.258016</td>\n",
       "      <td>30.974053</td>\n",
       "      <td>0.454477</td>\n",
       "      <td>16.097914</td>\n",
       "    </tr>\n",
       "    <tr>\n",
       "      <th>min</th>\n",
       "      <td>0.000000</td>\n",
       "      <td>0.001970</td>\n",
       "      <td>0.000000</td>\n",
       "      <td>-41.010000</td>\n",
       "      <td>0.000000</td>\n",
       "      <td>0.000000</td>\n",
       "      <td>0.000002</td>\n",
       "      <td>0.000000</td>\n",
       "      <td>0.020400</td>\n",
       "      <td>0.000000</td>\n",
       "      <td>0.000000</td>\n",
       "      <td>0.000000</td>\n",
       "      <td>0.000000</td>\n",
       "    </tr>\n",
       "    <tr>\n",
       "      <th>25%</th>\n",
       "      <td>0.380000</td>\n",
       "      <td>0.359000</td>\n",
       "      <td>2.000000</td>\n",
       "      <td>-13.315000</td>\n",
       "      <td>0.000000</td>\n",
       "      <td>0.033500</td>\n",
       "      <td>0.013500</td>\n",
       "      <td>0.000004</td>\n",
       "      <td>0.097500</td>\n",
       "      <td>0.269000</td>\n",
       "      <td>97.563000</td>\n",
       "      <td>4.000000</td>\n",
       "      <td>0.000000</td>\n",
       "    </tr>\n",
       "    <tr>\n",
       "      <th>50%</th>\n",
       "      <td>0.501000</td>\n",
       "      <td>0.608000</td>\n",
       "      <td>5.000000</td>\n",
       "      <td>-9.213000</td>\n",
       "      <td>1.000000</td>\n",
       "      <td>0.042000</td>\n",
       "      <td>0.174000</td>\n",
       "      <td>0.000771</td>\n",
       "      <td>0.126000</td>\n",
       "      <td>0.479000</td>\n",
       "      <td>120.111000</td>\n",
       "      <td>4.000000</td>\n",
       "      <td>6.000000</td>\n",
       "    </tr>\n",
       "    <tr>\n",
       "      <th>75%</th>\n",
       "      <td>0.621000</td>\n",
       "      <td>0.821000</td>\n",
       "      <td>9.000000</td>\n",
       "      <td>-6.334000</td>\n",
       "      <td>1.000000</td>\n",
       "      <td>0.063600</td>\n",
       "      <td>0.671000</td>\n",
       "      <td>0.226000</td>\n",
       "      <td>0.258000</td>\n",
       "      <td>0.683000</td>\n",
       "      <td>141.296000</td>\n",
       "      <td>4.000000</td>\n",
       "      <td>23.000000</td>\n",
       "    </tr>\n",
       "    <tr>\n",
       "      <th>max</th>\n",
       "      <td>0.957000</td>\n",
       "      <td>0.998000</td>\n",
       "      <td>11.000000</td>\n",
       "      <td>3.802000</td>\n",
       "      <td>1.000000</td>\n",
       "      <td>0.933000</td>\n",
       "      <td>0.995000</td>\n",
       "      <td>0.988000</td>\n",
       "      <td>1.000000</td>\n",
       "      <td>0.984000</td>\n",
       "      <td>212.155000</td>\n",
       "      <td>5.000000</td>\n",
       "      <td>77.000000</td>\n",
       "    </tr>\n",
       "  </tbody>\n",
       "</table>\n",
       "</div>"
      ],
      "text/plain": [
       "       danceability       energy          key     loudness         mode  \\\n",
       "count   2633.000000  2633.000000  2633.000000  2633.000000  2633.000000   \n",
       "mean       0.501157     0.577846     5.308393   -10.474196     0.729206   \n",
       "std        0.174248     0.276373     3.569734     5.743470     0.444454   \n",
       "min        0.000000     0.001970     0.000000   -41.010000     0.000000   \n",
       "25%        0.380000     0.359000     2.000000   -13.315000     0.000000   \n",
       "50%        0.501000     0.608000     5.000000    -9.213000     1.000000   \n",
       "75%        0.621000     0.821000     9.000000    -6.334000     1.000000   \n",
       "max        0.957000     0.998000    11.000000     3.802000     1.000000   \n",
       "\n",
       "       speechiness  acousticness  instrumentalness     liveness      valence  \\\n",
       "count  2633.000000   2633.000000       2633.000000  2633.000000  2633.000000   \n",
       "mean      0.068865      0.333271          0.194327     0.209889     0.479666   \n",
       "std       0.085543      0.349800          0.331703     0.198168     0.258016   \n",
       "min       0.000000      0.000002          0.000000     0.020400     0.000000   \n",
       "25%       0.033500      0.013500          0.000004     0.097500     0.269000   \n",
       "50%       0.042000      0.174000          0.000771     0.126000     0.479000   \n",
       "75%       0.063600      0.671000          0.226000     0.258000     0.683000   \n",
       "max       0.933000      0.995000          0.988000     1.000000     0.984000   \n",
       "\n",
       "             tempo  time_signature   popularity  \n",
       "count  2633.000000     2633.000000  2633.000000  \n",
       "mean    121.857204        3.876187    13.407900  \n",
       "std      30.974053        0.454477    16.097914  \n",
       "min       0.000000        0.000000     0.000000  \n",
       "25%      97.563000        4.000000     0.000000  \n",
       "50%     120.111000        4.000000     6.000000  \n",
       "75%     141.296000        4.000000    23.000000  \n",
       "max     212.155000        5.000000    77.000000  "
      ]
     },
     "execution_count": 16,
     "metadata": {},
     "output_type": "execute_result"
    }
   ],
   "source": [
    "# Read the csv file into a pandas DataFrame\n",
    "songs_csv = \"../../Resources/merged_songs_data.csv\"\n",
    "songs_df = pd.read_csv(songs_csv, index_col=0)\n",
    "# songs_df.columns\n",
    "songs_df = songs_df.dropna()\n",
    "songs_df = songs_df.sort_values(by=['popularity'])\n",
    "songs_df[['danceability', 'energy', 'key', 'loudness', 'mode','speechiness','acousticness','instrumentalness','liveness','valence','tempo','time_signature','popularity']].describe()"
   ]
  },
  {
   "cell_type": "code",
   "execution_count": 9,
   "metadata": {},
   "outputs": [
    {
     "name": "stdout",
     "output_type": "stream",
     "text": [
      "(2633, 5) (2633, 1)\n"
     ]
    }
   ],
   "source": [
    "# Assign X (data) and y (target)\n",
    "\n",
    "### BEGIN SOLUTION\n",
    "# X = songs_df[['danceability', 'energy', 'key', 'loudness', 'mode','speechiness','acousticness','instrumentalness','liveness','valence','tempo','time_signature','duration_ms']]\n",
    "# X = songs_df[['danceability', 'energy', 'key', 'loudness','speechiness','acousticness','instrumentalness','liveness','valence','tempo','time_signature']]\n",
    "X = songs_df[['danceability', 'energy', 'loudness','valence','tempo']]\n",
    "y = songs_df[\"popularity\"].values.reshape(-1, 1)\n",
    "print(X.shape, y.shape)\n",
    "### END SOLUTION"
   ]
  },
  {
   "cell_type": "code",
   "execution_count": 10,
   "metadata": {},
   "outputs": [
    {
     "name": "stdout",
     "output_type": "stream",
     "text": [
      "R2 Score: 0.09611953278215302\n"
     ]
    }
   ],
   "source": [
    "from sklearn.linear_model import LinearRegression\n",
    "model = LinearRegression()\n",
    "\n",
    "# Fitting our model with all of our features in X\n",
    "model.fit(X, y)\n",
    "\n",
    "score = model.score(X, y)\n",
    "print(f\"R2 Score: {score}\")"
   ]
  },
  {
   "cell_type": "markdown",
   "metadata": {},
   "source": [
    "## Residuals ##"
   ]
  },
  {
   "cell_type": "code",
   "execution_count": 11,
   "metadata": {},
   "outputs": [
    {
     "data": {
      "image/png": "[encoded data removed]",
      "text/plain": [
       "<Figure size 432x288 with 1 Axes>"
      ]
     },
     "metadata": {
      "needs_background": "light"
     },
     "output_type": "display_data"
    }
   ],
   "source": [
    "predictions = model.predict(X)\n",
    "# Plot Residuals\n",
    "plt.scatter(predictions, predictions - y)\n",
    "plt.hlines(y=0, xmin=predictions.min(), xmax=predictions.max())\n",
    "plt.show()"
   ]
  }
 ],
 "metadata": {
  "interpreter": {
   "hash": "e2d241ea6c13fbd412b08f70f77b2f246b799fc133294b10c57332bfd67ee63a"
  },
  "kernelspec": {
   "display_name": "Python 3.6.13 64-bit ('PythonAdv': conda)",
   "language": "python",
   "name": "python3"
  },
  "language_info": {
   "codemirror_mode": {
    "name": "ipython",
    "version": 3
   },
   "file_extension": ".py",
   "mimetype": "text/x-python",
   "name": "python",
   "nbconvert_exporter": "python",
   "pygments_lexer": "ipython3",
   "version": "3.6.13"
  },
  "orig_nbformat": 4
 },
 "nbformat": 4,
 "nbformat_minor": 2
}
