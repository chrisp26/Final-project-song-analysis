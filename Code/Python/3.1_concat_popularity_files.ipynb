{
 "cells": [
  {
   "cell_type": "code",
   "execution_count": 3,
   "metadata": {},
   "outputs": [],
   "source": [
    "import pandas as pd"
   ]
  },
  {
   "cell_type": "code",
   "execution_count": 4,
   "metadata": {},
   "outputs": [],
   "source": [
    "file2 = \"../../Resources/merged_df_2.csv\"\n",
    "file3 = \"../../Resources/merged_df_3.csv\"\n",
    "file4 = \"../../Resources/merged_df_4.csv\"\n",
    "file5 = \"../../Resources/merged_df_5.csv\"\n",
    "file6 = \"../../Resources/merged_df_6.csv\"\n",
    "file7 = \"../../Resources/merged_df_7.csv\"\n",
    "file8 = \"../../Resources/merged_df_8.csv\"\n",
    "file9 = \"../../Resources/merged_df_9.csv\"\n",
    "file10 = \"../../Resources/merged_df_10.csv\"\n"
   ]
  },
  {
   "cell_type": "code",
   "execution_count": 5,
   "metadata": {},
   "outputs": [
    {
     "name": "stdout",
     "output_type": "stream",
     "text": [
      "<class 'pandas.core.frame.DataFrame'>\n",
      "Int64Index: 74080 entries, 0 to 11077\n",
      "Data columns (total 26 columns):\n",
      " #   Column            Non-Null Count  Dtype  \n",
      "---  ------            --------------  -----  \n",
      " 0   Unnamed: 0        74080 non-null  int64  \n",
      " 1   id                74079 non-null  object \n",
      " 2   name              74079 non-null  object \n",
      " 3   album             74079 non-null  object \n",
      " 4   album_id          74079 non-null  object \n",
      " 5   artists           74079 non-null  object \n",
      " 6   artist_ids        74079 non-null  object \n",
      " 7   track_number      74079 non-null  float64\n",
      " 8   disc_number       74079 non-null  float64\n",
      " 9   explicit          74079 non-null  object \n",
      " 10  danceability      74079 non-null  float64\n",
      " 11  energy            74079 non-null  float64\n",
      " 12  key               74079 non-null  float64\n",
      " 13  loudness          74079 non-null  float64\n",
      " 14  mode              74079 non-null  float64\n",
      " 15  speechiness       74079 non-null  float64\n",
      " 16  acousticness      74079 non-null  float64\n",
      " 17  instrumentalness  74079 non-null  float64\n",
      " 18  liveness          74079 non-null  float64\n",
      " 19  valence           74079 non-null  float64\n",
      " 20  tempo             74079 non-null  float64\n",
      " 21  duration_ms       74079 non-null  float64\n",
      " 22  time_signature    74079 non-null  float64\n",
      " 23  year              74079 non-null  float64\n",
      " 24  release_date      74079 non-null  object \n",
      " 25  popularity        74078 non-null  float64\n",
      "dtypes: float64(17), int64(1), object(8)\n",
      "memory usage: 15.3+ MB\n"
     ]
    }
   ],
   "source": [
    "df = pd.concat(map(pd.read_csv, [file2,file3,file4,file5,file6,file7,file8,file9,file10]))\n",
    "# df.head()\n",
    "df.info()"
   ]
  },
  {
   "cell_type": "code",
   "execution_count": 12,
   "metadata": {},
   "outputs": [],
   "source": [
    "df.to_csv('../../Resources/songs_with_popularity.csv')"
   ]
  },
  {
   "cell_type": "code",
   "execution_count": 7,
   "metadata": {},
   "outputs": [],
   "source": [
    "# Create file with only relevant columns for models\n",
    "df_trimmed = df[['id', 'danceability', 'energy',\n",
    "       'key', 'loudness', 'mode', 'speechiness', 'acousticness',\n",
    "       'instrumentalness', 'liveness', 'valence', 'tempo', 'duration_ms',\n",
    "       'time_signature','popularity']]\n",
    "\n",
    "df_trimmed.to_csv('../../Resources/songs_with_popularity_trimmed.csv')"
   ]
  }
 ],
 "metadata": {
  "interpreter": {
   "hash": "f3250fe40d543f5c03f61d138d24dd30d84b23126029bb0b41e2b34b01ab6dfe"
  },
  "kernelspec": {
   "display_name": "Python 3.8.8 64-bit ('base': conda)",
   "language": "python",
   "name": "python3"
  },
  "language_info": {
   "codemirror_mode": {
    "name": "ipython",
    "version": 3
   },
   "file_extension": ".py",
   "mimetype": "text/x-python",
   "name": "python",
   "nbconvert_exporter": "python",
   "pygments_lexer": "ipython3",
   "version": "3.8.8"
  },
  "orig_nbformat": 4
 },
 "nbformat": 4,
 "nbformat_minor": 2
}
