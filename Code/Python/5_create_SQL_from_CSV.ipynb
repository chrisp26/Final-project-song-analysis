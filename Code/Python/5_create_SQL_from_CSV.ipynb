{
 "cells": [
  {
   "cell_type": "code",
   "execution_count": 1,
   "metadata": {},
   "outputs": [
    {
     "name": "stderr",
     "output_type": "stream",
     "text": [
      "G:\\Programs\\Anaconda\\lib\\site-packages\\numpy\\lib\\arraysetops.py:583: FutureWarning: elementwise comparison failed; returning scalar instead, but in the future will perform elementwise comparison\n",
      "  mask |= (ar1 == a)\n",
      "<ipython-input-1-2a9742d29fc3>:7: FutureWarning: The default value of regex will change from True to False in a future version. In addition, single character regular expressions will*not* be treated as literal strings when regex=True.\n",
      "  df.columns = df.columns.str.replace(\".\",\"\")\n"
     ]
    },
    {
     "data": {
      "text/plain": [
       "Index(['id', 'danceability', 'energy', 'key', 'loudness', 'mode',\n",
       "       'speechiness', 'acousticness', 'instrumentalness', 'liveness',\n",
       "       'valence', 'tempo', 'duration_ms', 'time_signature', 'popularity'],\n",
       "      dtype='object')"
      ]
     },
     "execution_count": 1,
     "metadata": {},
     "output_type": "execute_result"
    }
   ],
   "source": [
    "import pandas as pd\n",
    "import sqlite3\n",
    "\n",
    "songs_csv = \"../../Resources/merged_songs_data.csv\"\n",
    "df = pd.read_csv(songs_csv, index_col=0)\n",
    "df.columns = df.columns.str.strip()\n",
    "df.columns = df.columns.str.replace(\".\",\"\")\n",
    "df.columns"
   ]
  },
  {
   "cell_type": "code",
   "execution_count": 2,
   "metadata": {},
   "outputs": [
    {
     "data": {
      "text/plain": [
       "FacadeDict({'songs': Table('songs', MetaData(), Column('id', String(), table=<songs>, primary_key=True, nullable=False), Column('danceability', Float(), table=<songs>), Column('energy', Float(), table=<songs>), Column('key', Float(), table=<songs>), Column('loudness', Float(), table=<songs>), Column('mode', Float(), table=<songs>), Column('speechiness', Float(), table=<songs>), Column('acousticness', Float(), table=<songs>), Column('instrumentalness', Float(), table=<songs>), Column('liveness', Float(), table=<songs>), Column('valance', Float(), table=<songs>), Column('tempo', Float(), table=<songs>), Column('time_signature', Float(), table=<songs>), Column('duration_ms', Integer(), table=<songs>), Column('popularity', Integer(), table=<songs>), schema=None)})"
      ]
     },
     "execution_count": 2,
     "metadata": {},
     "output_type": "execute_result"
    }
   ],
   "source": [
    "from sqlalchemy import create_engine, Column, Integer, String, Float\n",
    "from sqlalchemy.ext.declarative import declarative_base\n",
    "Base = declarative_base()\n",
    "\n",
    "# Define table\n",
    "class Song(Base):\n",
    "    __tablename__ = 'songs'\n",
    "    id = Column(String, primary_key=True)\n",
    "    danceability = Column(Float)\n",
    "    energy = Column(Float)\n",
    "    key = Column(Float)\n",
    "    loudness = Column(Float)\n",
    "    mode = Column(Float)\n",
    "    speechiness = Column(Float)\n",
    "    acousticness = Column(Float)\n",
    "    instrumentalness = Column(Float)\n",
    "    liveness = Column(Float)\n",
    "    valance = Column(Float)\n",
    "    tempo = Column(Float)\n",
    "    time_signature = Column(Float)\n",
    "    duration_ms = Column(Integer)\n",
    "    popularity = Column(Integer)\n",
    "\n",
    "\n",
    "Base.metadata.tables"
   ]
  },
  {
   "cell_type": "code",
   "execution_count": 3,
   "metadata": {},
   "outputs": [],
   "source": [
    "engine = create_engine('sqlite:///songs.sqlite')\n",
    "Base.metadata.create_all(engine)\n",
    "\n",
    "from sqlalchemy.orm import Session\n",
    "session = Session(engine)"
   ]
  }
 ],
 "metadata": {
  "interpreter": {
   "hash": "f3250fe40d543f5c03f61d138d24dd30d84b23126029bb0b41e2b34b01ab6dfe"
  },
  "kernelspec": {
   "display_name": "Python 3.8.8 64-bit ('base': conda)",
   "language": "python",
   "name": "python3"
  },
  "language_info": {
   "codemirror_mode": {
    "name": "ipython",
    "version": 3
   },
   "file_extension": ".py",
   "mimetype": "text/x-python",
   "name": "python",
   "nbconvert_exporter": "python",
   "pygments_lexer": "ipython3",
   "version": "3.8.8"
  },
  "orig_nbformat": 4
 },
 "nbformat": 4,
 "nbformat_minor": 2
}
