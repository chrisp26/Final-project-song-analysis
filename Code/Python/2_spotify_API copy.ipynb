{
 "cells": [
  {
   "cell_type": "code",
   "execution_count": 1,
   "metadata": {},
   "outputs": [],
   "source": [
    "import requests\n",
    "import json\n",
    "from config import api_key\n",
    "from pprint import pprint\n",
    "import time\n",
    "from random import randint"
   ]
  },
  {
   "cell_type": "code",
   "execution_count": null,
   "metadata": {},
   "outputs": [],
   "source": [
    "api_key"
   ]
  },
  {
   "cell_type": "markdown",
   "metadata": {},
   "source": [
    "SPOTIFY DOCUMENTATION\n",
    "https://developer.spotify.com/console/tracks/"
   ]
  },
  {
   "cell_type": "markdown",
   "metadata": {},
   "source": [
    "Example: wk06, 02, 07"
   ]
  },
  {
   "cell_type": "code",
   "execution_count": null,
   "metadata": {},
   "outputs": [],
   "source": [
    "#[create list of songs from database to query]\n",
    "import pandas as pd\n",
    "import sqlite3\n",
    "\n",
    "songs_csv = \"../../Resources/spotify_tracks_features.csv\"\n",
    "df = pd.read_csv(songs_csv)\n",
    "\n",
    "# Clean columns for initial pass of CSV\n",
    "# df.columns = df.columns.str.strip()\n",
    "# df.columns = df.columns.str.replace(\".\",\"\")\n",
    "df.head()"
   ]
  },
  {
   "cell_type": "code",
   "execution_count": null,
   "metadata": {},
   "outputs": [],
   "source": [
    "df_4000 = df.loc[0:4000]\n",
    "song_ids_1 = df_4000['id'].tolist()\n",
    "\n",
    "df_8000 = df.loc[4001:8000]\n",
    "song_ids_2 = df_8000['id'].tolist()\n",
    "\n",
    "df_12000 = df.loc[8001:12000]\n",
    "song_ids_3 = df_12000['id'].tolist()\n",
    "\n",
    "df_16000 = df.loc[12001:16000]\n",
    "song_ids_4 = df_16000['id'].tolist()\n",
    "\n",
    "df_20000 = df.loc[16001:]\n",
    "song_ids_5 = df_20000['id'].tolist()\n",
    "\n",
    "df_24000 = df.loc[20001:24000]\n",
    "song_ids_6 = df_24000['id'].tolist()\n",
    "\n",
    "df_28000 = df.loc[24001:28000]\n",
    "song_ids_6 = df_28000['id'].tolist()"
   ]
  },
  {
   "cell_type": "code",
   "execution_count": null,
   "metadata": {},
   "outputs": [],
   "source": [
    "# Create song list of songs without 'popularity'\n",
    "\n",
    "df_has_rating = df.dropna(subset=['popularity'])\n",
    "df_no_pop_rating = df.drop(df_has_rating.index)\n",
    "song_ids = df_no_pop_rating['id'].tolist()\n",
    "\n",
    "song_ids"
   ]
  },
  {
   "cell_type": "code",
   "execution_count": null,
   "metadata": {},
   "outputs": [],
   "source": [
    "import requests\n",
    "from requests.structures import CaseInsensitiveDict\n",
    "import numpy as np\n",
    "\n",
    "url = \"https://api.spotify.com/v1/tracks/3JbxyXrJDf4tNLvIQI2iXl\"\n",
    "headers = CaseInsensitiveDict()\n",
    "headers[\"Accept\"] = \"application/json\"\n",
    "headers[\"Authorization\"] = f\"Bearer {api_key}\"\n",
    "\n",
    "response = requests.get(url, headers=headers).json()\n",
    "\n",
    "response"
   ]
  },
  {
   "cell_type": "code",
   "execution_count": null,
   "metadata": {},
   "outputs": [],
   "source": [
    "import requests\n",
    "from requests.structures import CaseInsensitiveDict\n",
    "import numpy as np\n",
    "\n",
    "# set up lists to hold reponse info\n",
    "popularity = []\n",
    "# Add dictionary to list\n",
    "\n",
    "url = \"https://api.spotify.com/v1/tracks/\"\n",
    "\n",
    "headers = CaseInsensitiveDict()\n",
    "headers[\"Accept\"] = \"application/json\"\n",
    "headers[\"Authorization\"] = f\"Bearer {api_key}\"\n",
    "\n",
    "# Loop through the list of songs and perform a request for data on each\n",
    "for song in song_ids_5:\n",
    "    # resp = requests.get(query_url, headers=headers)\n",
    "    try:\n",
    "        response = requests.get(url + song, headers=headers).json()\n",
    "        adict = {'id':song,'popularity':response['popularity']}\n",
    "        popularity.append(adict)\n",
    "        # print(f\"Song popularity for {song}: {response['popularity']}\")\n",
    "        print(adict)\n",
    "    except:\n",
    "        time.sleep(31)\n",
    "        try:\n",
    "            response = requests.get(url + song, headers=headers).json()\n",
    "            adict = {'id':song,'popularity':response['popularity']}\n",
    "            popularity.append(adict)\n",
    "            # print(f\"Song popularity for {song}: {response['popularity']}\")\n",
    "            print(adict)\n",
    "        except:\n",
    "            adict = {song:(np.nan)}\n",
    "            popularity.append(adict)\n",
    "            print(response.status_code)\n",
    "\n",
    "        # print(f\"Song popularity for {popularity}:\")\n",
    "\n",
    "    # time.sleep(randint(1,5))\n",
    "\n",
    "# print(resp.status_code)\n",
    "# resp.json()\n",
    "# print(response['popularity'])\n",
    "# print(api_key)\n",
    "\n",
    "# pandas.dataframe.append\n",
    "# popularity.append(response['popularity'])\n",
    "# popularity.append(np.nan)"
   ]
  },
  {
   "cell_type": "code",
   "execution_count": null,
   "metadata": {},
   "outputs": [],
   "source": [
    "# df_popularity = pd.DataFrame.from_records(popularity)\n",
    "df_popularity_20000 = pd.DataFrame.from_dict(popularity)\n",
    "df_popularity_20000.head()"
   ]
  },
  {
   "cell_type": "code",
   "execution_count": null,
   "metadata": {},
   "outputs": [],
   "source": [
    "\n",
    "merged_df_5 = pd.merge(df, df_popularity_16000, how='right')\n",
    "merged_df_5.head()"
   ]
  },
  {
   "cell_type": "code",
   "execution_count": null,
   "metadata": {},
   "outputs": [],
   "source": [
    "merged_df_5.info()"
   ]
  },
  {
   "cell_type": "code",
   "execution_count": null,
   "metadata": {},
   "outputs": [],
   "source": [
    "merged_df_5.to_csv('../../Resources/merged_df_5.csv')"
   ]
  },
  {
   "cell_type": "code",
   "execution_count": null,
   "metadata": {},
   "outputs": [],
   "source": []
  },
  {
   "cell_type": "code",
   "execution_count": null,
   "metadata": {},
   "outputs": [],
   "source": [
    "# Save to csv\n",
    "df_popularity = pd.DataFrame(popularity, columns=['popularity'])\n",
    "df_popularity.to_csv('../../Resources/popularity_2.csv')"
   ]
  },
  {
   "cell_type": "code",
   "execution_count": null,
   "metadata": {},
   "outputs": [],
   "source": [
    "# Concat to popularity csv"
   ]
  }
 ],
 "metadata": {
  "interpreter": {
   "hash": "f3250fe40d543f5c03f61d138d24dd30d84b23126029bb0b41e2b34b01ab6dfe"
  },
  "kernelspec": {
   "display_name": "Python 3.8.8 64-bit ('base': conda)",
   "language": "python",
   "name": "python3"
  },
  "language_info": {
   "codemirror_mode": {
    "name": "ipython",
    "version": 3
   },
   "file_extension": ".py",
   "mimetype": "text/x-python",
   "name": "python",
   "nbconvert_exporter": "python",
   "pygments_lexer": "ipython3",
   "version": "3.8.8"
  },
  "orig_nbformat": 4
 },
 "nbformat": 4,
 "nbformat_minor": 2
}
