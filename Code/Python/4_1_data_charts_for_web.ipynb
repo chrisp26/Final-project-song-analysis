{
 "cells": [
  {
   "cell_type": "markdown",
   "metadata": {},
   "source": [
    "<!-- Need to take in two variables from the webpage which plots then queries the database and produces the plots -->"
   ]
  },
  {
   "cell_type": "code",
   "execution_count": null,
   "metadata": {},
   "outputs": [],
   "source": []
  },
  {
   "cell_type": "code",
   "execution_count": null,
   "metadata": {},
   "outputs": [],
   "source": [
    "plt.style.use(\"seaborn\")\n",
    "fig, ax =plt.subplots(3,1, figsize=(15,20)) \n",
    "\n",
    "sns.scatterplot(x = df['acousticness'], y = df['energy'], ax=ax[0], color=\"deepskyblue\");\n",
    "ax[0].set_xlabel(\"acousticness\",fontsize=15);\n",
    "\n",
    "sns.scatterplot(x = df['danceability'], y = df['energy'], ax=ax[1], color=\"darkorange\");\n",
    "ax[1].set_xlabel(\"danceability\",fontsize=15);\n",
    "\n",
    "sns.scatterplot(x = df['duration_ms'], y = df['energy'], ax=ax[2], color=\"firebrick\");\n",
    "ax[2].set_xlabel(\"duration_ms\",fontsize=15);"
   ]
  }
 ],
 "metadata": {
  "language_info": {
   "name": "python"
  },
  "orig_nbformat": 4
 },
 "nbformat": 4,
 "nbformat_minor": 2
}
